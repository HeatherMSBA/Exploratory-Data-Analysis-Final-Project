{
 "cells": [
  {
   "cell_type": "markdown",
   "id": "427d10a8-547b-4ffe-8744-6adf243a60a1",
   "metadata": {
    "tags": []
   },
   "source": [
    "### Importing Data & Initial Cleaning"
   ]
  },
  {
   "cell_type": "code",
   "execution_count": 1,
   "id": "9f12007c-c336-4e15-ad04-45f336dade89",
   "metadata": {},
   "outputs": [],
   "source": [
    "from sqlalchemy import create_engine"
   ]
  },
  {
   "cell_type": "code",
   "execution_count": 2,
   "id": "cbed80b9-c1d8-4df0-ae46-cccb463ad794",
   "metadata": {},
   "outputs": [],
   "source": [
    "engine = create_engine('sqlite:///mta_data.db')"
   ]
  },
  {
   "cell_type": "code",
   "execution_count": 3,
   "id": "6982026c-9ec2-4d21-9d89-11758e206f92",
   "metadata": {},
   "outputs": [
    {
     "name": "stderr",
     "output_type": "stream",
     "text": [
      "/tmp/ipykernel_90/4162273999.py:1: SADeprecationWarning: The Engine.table_names() method is deprecated and will be removed in a future release.  Please refer to Inspector.get_table_names(). (deprecated since: 1.4)\n",
      "  engine.table_names()\n"
     ]
    },
    {
     "data": {
      "text/plain": [
       "['mta5', 'mta_data']"
      ]
     },
     "execution_count": 3,
     "metadata": {},
     "output_type": "execute_result"
    }
   ],
   "source": [
    "engine.table_names()"
   ]
  },
  {
   "cell_type": "code",
   "execution_count": 4,
   "id": "f0767634-cd01-44c6-b3c6-b75de3ba3437",
   "metadata": {},
   "outputs": [],
   "source": [
    "import pandas as pd"
   ]
  },
  {
   "cell_type": "code",
   "execution_count": 5,
   "id": "af8d0b42-f77c-4e32-afcc-44ac0dccb326",
   "metadata": {},
   "outputs": [
    {
     "data": {
      "text/plain": [
       "(2750356, 11)"
      ]
     },
     "execution_count": 5,
     "metadata": {},
     "output_type": "execute_result"
    }
   ],
   "source": [
    "df5 = pd.read_sql('SELECT * FROM mta5;', engine)\n",
    "df5.shape"
   ]
  },
  {
   "cell_type": "code",
   "execution_count": 6,
   "id": "228c0419-17c4-48bf-bbee-b29f40f42150",
   "metadata": {},
   "outputs": [
    {
     "data": {
      "text/html": [
       "<div>\n",
       "<style scoped>\n",
       "    .dataframe tbody tr th:only-of-type {\n",
       "        vertical-align: middle;\n",
       "    }\n",
       "\n",
       "    .dataframe tbody tr th {\n",
       "        vertical-align: top;\n",
       "    }\n",
       "\n",
       "    .dataframe thead th {\n",
       "        text-align: right;\n",
       "    }\n",
       "</style>\n",
       "<table border=\"1\" class=\"dataframe\">\n",
       "  <thead>\n",
       "    <tr style=\"text-align: right;\">\n",
       "      <th></th>\n",
       "      <th>C/A</th>\n",
       "      <th>UNIT</th>\n",
       "      <th>SCP</th>\n",
       "      <th>STATION</th>\n",
       "      <th>LINENAME</th>\n",
       "      <th>DIVISION</th>\n",
       "      <th>DATE</th>\n",
       "      <th>TIME</th>\n",
       "      <th>DESC</th>\n",
       "      <th>ENTRIES</th>\n",
       "      <th>EXITS</th>\n",
       "    </tr>\n",
       "  </thead>\n",
       "  <tbody>\n",
       "    <tr>\n",
       "      <th>0</th>\n",
       "      <td>A002</td>\n",
       "      <td>R051</td>\n",
       "      <td>02-00-00</td>\n",
       "      <td>59 ST</td>\n",
       "      <td>NQR456W</td>\n",
       "      <td>BMT</td>\n",
       "      <td>06/26/2021</td>\n",
       "      <td>00:00:00</td>\n",
       "      <td>REGULAR</td>\n",
       "      <td>7592792</td>\n",
       "      <td>2595706</td>\n",
       "    </tr>\n",
       "    <tr>\n",
       "      <th>1</th>\n",
       "      <td>A002</td>\n",
       "      <td>R051</td>\n",
       "      <td>02-00-00</td>\n",
       "      <td>59 ST</td>\n",
       "      <td>NQR456W</td>\n",
       "      <td>BMT</td>\n",
       "      <td>06/26/2021</td>\n",
       "      <td>04:00:00</td>\n",
       "      <td>REGULAR</td>\n",
       "      <td>7592804</td>\n",
       "      <td>2595713</td>\n",
       "    </tr>\n",
       "    <tr>\n",
       "      <th>2</th>\n",
       "      <td>A002</td>\n",
       "      <td>R051</td>\n",
       "      <td>02-00-00</td>\n",
       "      <td>59 ST</td>\n",
       "      <td>NQR456W</td>\n",
       "      <td>BMT</td>\n",
       "      <td>06/26/2021</td>\n",
       "      <td>08:00:00</td>\n",
       "      <td>REGULAR</td>\n",
       "      <td>7592816</td>\n",
       "      <td>2595729</td>\n",
       "    </tr>\n",
       "    <tr>\n",
       "      <th>3</th>\n",
       "      <td>A002</td>\n",
       "      <td>R051</td>\n",
       "      <td>02-00-00</td>\n",
       "      <td>59 ST</td>\n",
       "      <td>NQR456W</td>\n",
       "      <td>BMT</td>\n",
       "      <td>06/26/2021</td>\n",
       "      <td>12:00:00</td>\n",
       "      <td>REGULAR</td>\n",
       "      <td>7592870</td>\n",
       "      <td>2595762</td>\n",
       "    </tr>\n",
       "    <tr>\n",
       "      <th>4</th>\n",
       "      <td>A002</td>\n",
       "      <td>R051</td>\n",
       "      <td>02-00-00</td>\n",
       "      <td>59 ST</td>\n",
       "      <td>NQR456W</td>\n",
       "      <td>BMT</td>\n",
       "      <td>06/26/2021</td>\n",
       "      <td>16:00:00</td>\n",
       "      <td>REGULAR</td>\n",
       "      <td>7592992</td>\n",
       "      <td>2595791</td>\n",
       "    </tr>\n",
       "  </tbody>\n",
       "</table>\n",
       "</div>"
      ],
      "text/plain": [
       "    C/A  UNIT       SCP STATION LINENAME DIVISION        DATE      TIME  \\\n",
       "0  A002  R051  02-00-00   59 ST  NQR456W      BMT  06/26/2021  00:00:00   \n",
       "1  A002  R051  02-00-00   59 ST  NQR456W      BMT  06/26/2021  04:00:00   \n",
       "2  A002  R051  02-00-00   59 ST  NQR456W      BMT  06/26/2021  08:00:00   \n",
       "3  A002  R051  02-00-00   59 ST  NQR456W      BMT  06/26/2021  12:00:00   \n",
       "4  A002  R051  02-00-00   59 ST  NQR456W      BMT  06/26/2021  16:00:00   \n",
       "\n",
       "      DESC  ENTRIES    EXITS  \n",
       "0  REGULAR  7592792  2595706  \n",
       "1  REGULAR  7592804  2595713  \n",
       "2  REGULAR  7592816  2595729  \n",
       "3  REGULAR  7592870  2595762  \n",
       "4  REGULAR  7592992  2595791  "
      ]
     },
     "execution_count": 6,
     "metadata": {},
     "output_type": "execute_result"
    }
   ],
   "source": [
    "df5.head()"
   ]
  },
  {
   "cell_type": "code",
   "execution_count": 7,
   "id": "591a3b33-caa9-4698-936b-9533d813c910",
   "metadata": {},
   "outputs": [],
   "source": [
    "import datetime"
   ]
  },
  {
   "cell_type": "code",
   "execution_count": 8,
   "id": "8081ebfa-4582-4c65-b742-171d72116380",
   "metadata": {},
   "outputs": [],
   "source": [
    "turnstiles_df = df5"
   ]
  },
  {
   "cell_type": "code",
   "execution_count": 9,
   "id": "2d5f004d-7750-463f-a1b0-852b193c7f2b",
   "metadata": {},
   "outputs": [],
   "source": [
    "turnstiles_df[\"DATE_TIME\"] = pd.to_datetime(turnstiles_df.DATE + \" \" + turnstiles_df.TIME, \n",
    "                                            format=\"%m/%d/%Y %H:%M:%S\")"
   ]
  },
  {
   "cell_type": "code",
   "execution_count": 10,
   "id": "9f778515-d1cb-456a-99ff-a22406330f51",
   "metadata": {},
   "outputs": [],
   "source": [
    "#remove duplicates\n",
    "turnstiles_df.sort_values(['C/A', 'UNIT', 'SCP', 'STATION', 'DATE_TIME'], \n",
    "                          inplace=True, ascending=False)\n",
    "turnstiles_df.drop_duplicates(subset=['C/A', 'UNIT', 'SCP', 'STATION', 'DATE_TIME'], inplace=True)"
   ]
  },
  {
   "cell_type": "code",
   "execution_count": 11,
   "id": "c13c24b0-d0f1-4c51-b083-5a88954b4a08",
   "metadata": {},
   "outputs": [],
   "source": [
    "#remove columns\n",
    "turnstiles_df = turnstiles_df.drop([\"EXITS\", \"DESC\"], axis=1, errors=\"ignore\")"
   ]
  },
  {
   "cell_type": "code",
   "execution_count": 12,
   "id": "165da97c-1795-4d0a-be74-b2438af0b1b6",
   "metadata": {},
   "outputs": [
    {
     "data": {
      "text/html": [
       "<div>\n",
       "<style scoped>\n",
       "    .dataframe tbody tr th:only-of-type {\n",
       "        vertical-align: middle;\n",
       "    }\n",
       "\n",
       "    .dataframe tbody tr th {\n",
       "        vertical-align: top;\n",
       "    }\n",
       "\n",
       "    .dataframe thead th {\n",
       "        text-align: right;\n",
       "    }\n",
       "</style>\n",
       "<table border=\"1\" class=\"dataframe\">\n",
       "  <thead>\n",
       "    <tr style=\"text-align: right;\">\n",
       "      <th></th>\n",
       "      <th>C/A</th>\n",
       "      <th>UNIT</th>\n",
       "      <th>SCP</th>\n",
       "      <th>STATION</th>\n",
       "      <th>LINENAME</th>\n",
       "      <th>DIVISION</th>\n",
       "      <th>DATE</th>\n",
       "      <th>TIME</th>\n",
       "      <th>ENTRIES</th>\n",
       "      <th>DATE_TIME</th>\n",
       "    </tr>\n",
       "  </thead>\n",
       "  <tbody>\n",
       "    <tr>\n",
       "      <th>2660826</th>\n",
       "      <td>A002</td>\n",
       "      <td>R051</td>\n",
       "      <td>02-00-00</td>\n",
       "      <td>59 ST</td>\n",
       "      <td>NQR456W</td>\n",
       "      <td>BMT</td>\n",
       "      <td>03/31/2021</td>\n",
       "      <td>00:00:00</td>\n",
       "      <td>7551789</td>\n",
       "      <td>2021-03-31 00:00:00</td>\n",
       "    </tr>\n",
       "    <tr>\n",
       "      <th>2660827</th>\n",
       "      <td>A002</td>\n",
       "      <td>R051</td>\n",
       "      <td>02-00-00</td>\n",
       "      <td>59 ST</td>\n",
       "      <td>NQR456W</td>\n",
       "      <td>BMT</td>\n",
       "      <td>03/31/2021</td>\n",
       "      <td>04:00:00</td>\n",
       "      <td>7551792</td>\n",
       "      <td>2021-03-31 04:00:00</td>\n",
       "    </tr>\n",
       "    <tr>\n",
       "      <th>2660828</th>\n",
       "      <td>A002</td>\n",
       "      <td>R051</td>\n",
       "      <td>02-00-00</td>\n",
       "      <td>59 ST</td>\n",
       "      <td>NQR456W</td>\n",
       "      <td>BMT</td>\n",
       "      <td>03/31/2021</td>\n",
       "      <td>08:00:00</td>\n",
       "      <td>7551805</td>\n",
       "      <td>2021-03-31 08:00:00</td>\n",
       "    </tr>\n",
       "    <tr>\n",
       "      <th>2660829</th>\n",
       "      <td>A002</td>\n",
       "      <td>R051</td>\n",
       "      <td>02-00-00</td>\n",
       "      <td>59 ST</td>\n",
       "      <td>NQR456W</td>\n",
       "      <td>BMT</td>\n",
       "      <td>03/31/2021</td>\n",
       "      <td>12:00:00</td>\n",
       "      <td>7551875</td>\n",
       "      <td>2021-03-31 12:00:00</td>\n",
       "    </tr>\n",
       "    <tr>\n",
       "      <th>2660830</th>\n",
       "      <td>A002</td>\n",
       "      <td>R051</td>\n",
       "      <td>02-00-00</td>\n",
       "      <td>59 ST</td>\n",
       "      <td>NQR456W</td>\n",
       "      <td>BMT</td>\n",
       "      <td>03/31/2021</td>\n",
       "      <td>16:00:00</td>\n",
       "      <td>7552015</td>\n",
       "      <td>2021-03-31 16:00:00</td>\n",
       "    </tr>\n",
       "    <tr>\n",
       "      <th>2660831</th>\n",
       "      <td>A002</td>\n",
       "      <td>R051</td>\n",
       "      <td>02-00-00</td>\n",
       "      <td>59 ST</td>\n",
       "      <td>NQR456W</td>\n",
       "      <td>BMT</td>\n",
       "      <td>03/31/2021</td>\n",
       "      <td>20:00:00</td>\n",
       "      <td>7552051</td>\n",
       "      <td>2021-03-31 20:00:00</td>\n",
       "    </tr>\n",
       "    <tr>\n",
       "      <th>2660832</th>\n",
       "      <td>A002</td>\n",
       "      <td>R051</td>\n",
       "      <td>02-00-00</td>\n",
       "      <td>59 ST</td>\n",
       "      <td>NQR456W</td>\n",
       "      <td>BMT</td>\n",
       "      <td>04/01/2021</td>\n",
       "      <td>00:00:00</td>\n",
       "      <td>7552051</td>\n",
       "      <td>2021-04-01 00:00:00</td>\n",
       "    </tr>\n",
       "    <tr>\n",
       "      <th>2660833</th>\n",
       "      <td>A002</td>\n",
       "      <td>R051</td>\n",
       "      <td>02-00-00</td>\n",
       "      <td>59 ST</td>\n",
       "      <td>NQR456W</td>\n",
       "      <td>BMT</td>\n",
       "      <td>04/01/2021</td>\n",
       "      <td>04:00:00</td>\n",
       "      <td>7552051</td>\n",
       "      <td>2021-04-01 04:00:00</td>\n",
       "    </tr>\n",
       "    <tr>\n",
       "      <th>2660834</th>\n",
       "      <td>A002</td>\n",
       "      <td>R051</td>\n",
       "      <td>02-00-00</td>\n",
       "      <td>59 ST</td>\n",
       "      <td>NQR456W</td>\n",
       "      <td>BMT</td>\n",
       "      <td>04/01/2021</td>\n",
       "      <td>08:00:00</td>\n",
       "      <td>7552051</td>\n",
       "      <td>2021-04-01 08:00:00</td>\n",
       "    </tr>\n",
       "    <tr>\n",
       "      <th>2660835</th>\n",
       "      <td>A002</td>\n",
       "      <td>R051</td>\n",
       "      <td>02-00-00</td>\n",
       "      <td>59 ST</td>\n",
       "      <td>NQR456W</td>\n",
       "      <td>BMT</td>\n",
       "      <td>04/01/2021</td>\n",
       "      <td>12:00:00</td>\n",
       "      <td>7552051</td>\n",
       "      <td>2021-04-01 12:00:00</td>\n",
       "    </tr>\n",
       "  </tbody>\n",
       "</table>\n",
       "</div>"
      ],
      "text/plain": [
       "          C/A  UNIT       SCP STATION LINENAME DIVISION        DATE      TIME  \\\n",
       "2660826  A002  R051  02-00-00   59 ST  NQR456W      BMT  03/31/2021  00:00:00   \n",
       "2660827  A002  R051  02-00-00   59 ST  NQR456W      BMT  03/31/2021  04:00:00   \n",
       "2660828  A002  R051  02-00-00   59 ST  NQR456W      BMT  03/31/2021  08:00:00   \n",
       "2660829  A002  R051  02-00-00   59 ST  NQR456W      BMT  03/31/2021  12:00:00   \n",
       "2660830  A002  R051  02-00-00   59 ST  NQR456W      BMT  03/31/2021  16:00:00   \n",
       "2660831  A002  R051  02-00-00   59 ST  NQR456W      BMT  03/31/2021  20:00:00   \n",
       "2660832  A002  R051  02-00-00   59 ST  NQR456W      BMT  04/01/2021  00:00:00   \n",
       "2660833  A002  R051  02-00-00   59 ST  NQR456W      BMT  04/01/2021  04:00:00   \n",
       "2660834  A002  R051  02-00-00   59 ST  NQR456W      BMT  04/01/2021  08:00:00   \n",
       "2660835  A002  R051  02-00-00   59 ST  NQR456W      BMT  04/01/2021  12:00:00   \n",
       "\n",
       "         ENTRIES           DATE_TIME  \n",
       "2660826  7551789 2021-03-31 00:00:00  \n",
       "2660827  7551792 2021-03-31 04:00:00  \n",
       "2660828  7551805 2021-03-31 08:00:00  \n",
       "2660829  7551875 2021-03-31 12:00:00  \n",
       "2660830  7552015 2021-03-31 16:00:00  \n",
       "2660831  7552051 2021-03-31 20:00:00  \n",
       "2660832  7552051 2021-04-01 00:00:00  \n",
       "2660833  7552051 2021-04-01 04:00:00  \n",
       "2660834  7552051 2021-04-01 08:00:00  \n",
       "2660835  7552051 2021-04-01 12:00:00  "
      ]
     },
     "execution_count": 12,
     "metadata": {},
     "output_type": "execute_result"
    }
   ],
   "source": [
    "turnstiles_test = (turnstiles_df\n",
    "                        .sort_values([\"C/A\", \"UNIT\", \"SCP\", \"STATION\", \"DATE_TIME\"]))\n",
    "turnstiles_test.head(10)"
   ]
  },
  {
   "cell_type": "markdown",
   "id": "5e88edce-e306-4253-85e6-7f19e96da978",
   "metadata": {
    "tags": []
   },
   "source": [
    "### Adding Total Entry Counts"
   ]
  },
  {
   "cell_type": "code",
   "execution_count": 13,
   "id": "f9ca47a1-d20a-45c5-bea9-85f388026b18",
   "metadata": {},
   "outputs": [
    {
     "name": "stderr",
     "output_type": "stream",
     "text": [
      "/tmp/ipykernel_90/2965879844.py:1: FutureWarning: Indexing with multiple keys (implicitly converted to a tuple of keys) will be deprecated, use a list instead.\n",
      "  turnstiles_test[[\"PREV_DATE_TIME\", \"PREV_ENTRIES\"]] = (turnstiles_test\n"
     ]
    }
   ],
   "source": [
    "turnstiles_test[[\"PREV_DATE_TIME\", \"PREV_ENTRIES\"]] = (turnstiles_test\n",
    "                                                       .groupby([\"C/A\", \"UNIT\", \"SCP\", \"STATION\"])[\"DATE_TIME\", \"ENTRIES\"]\n",
    "                                                       .apply(lambda grp: grp.shift(1)))"
   ]
  },
  {
   "cell_type": "code",
   "execution_count": 14,
   "id": "fec27358-9e63-44d0-9f62-3429696f67a1",
   "metadata": {},
   "outputs": [
    {
     "data": {
      "text/html": [
       "<div>\n",
       "<style scoped>\n",
       "    .dataframe tbody tr th:only-of-type {\n",
       "        vertical-align: middle;\n",
       "    }\n",
       "\n",
       "    .dataframe tbody tr th {\n",
       "        vertical-align: top;\n",
       "    }\n",
       "\n",
       "    .dataframe thead th {\n",
       "        text-align: right;\n",
       "    }\n",
       "</style>\n",
       "<table border=\"1\" class=\"dataframe\">\n",
       "  <thead>\n",
       "    <tr style=\"text-align: right;\">\n",
       "      <th></th>\n",
       "      <th>C/A</th>\n",
       "      <th>UNIT</th>\n",
       "      <th>SCP</th>\n",
       "      <th>STATION</th>\n",
       "      <th>LINENAME</th>\n",
       "      <th>DIVISION</th>\n",
       "      <th>DATE</th>\n",
       "      <th>TIME</th>\n",
       "      <th>ENTRIES</th>\n",
       "      <th>DATE_TIME</th>\n",
       "      <th>PREV_DATE_TIME</th>\n",
       "      <th>PREV_ENTRIES</th>\n",
       "    </tr>\n",
       "  </thead>\n",
       "  <tbody>\n",
       "    <tr>\n",
       "      <th>2660826</th>\n",
       "      <td>A002</td>\n",
       "      <td>R051</td>\n",
       "      <td>02-00-00</td>\n",
       "      <td>59 ST</td>\n",
       "      <td>NQR456W</td>\n",
       "      <td>BMT</td>\n",
       "      <td>03/31/2021</td>\n",
       "      <td>00:00:00</td>\n",
       "      <td>7551789</td>\n",
       "      <td>2021-03-31 00:00:00</td>\n",
       "      <td>NaT</td>\n",
       "      <td>NaN</td>\n",
       "    </tr>\n",
       "    <tr>\n",
       "      <th>2660827</th>\n",
       "      <td>A002</td>\n",
       "      <td>R051</td>\n",
       "      <td>02-00-00</td>\n",
       "      <td>59 ST</td>\n",
       "      <td>NQR456W</td>\n",
       "      <td>BMT</td>\n",
       "      <td>03/31/2021</td>\n",
       "      <td>04:00:00</td>\n",
       "      <td>7551792</td>\n",
       "      <td>2021-03-31 04:00:00</td>\n",
       "      <td>2021-03-31 00:00:00</td>\n",
       "      <td>7551789.0</td>\n",
       "    </tr>\n",
       "    <tr>\n",
       "      <th>2660828</th>\n",
       "      <td>A002</td>\n",
       "      <td>R051</td>\n",
       "      <td>02-00-00</td>\n",
       "      <td>59 ST</td>\n",
       "      <td>NQR456W</td>\n",
       "      <td>BMT</td>\n",
       "      <td>03/31/2021</td>\n",
       "      <td>08:00:00</td>\n",
       "      <td>7551805</td>\n",
       "      <td>2021-03-31 08:00:00</td>\n",
       "      <td>2021-03-31 04:00:00</td>\n",
       "      <td>7551792.0</td>\n",
       "    </tr>\n",
       "    <tr>\n",
       "      <th>2660829</th>\n",
       "      <td>A002</td>\n",
       "      <td>R051</td>\n",
       "      <td>02-00-00</td>\n",
       "      <td>59 ST</td>\n",
       "      <td>NQR456W</td>\n",
       "      <td>BMT</td>\n",
       "      <td>03/31/2021</td>\n",
       "      <td>12:00:00</td>\n",
       "      <td>7551875</td>\n",
       "      <td>2021-03-31 12:00:00</td>\n",
       "      <td>2021-03-31 08:00:00</td>\n",
       "      <td>7551805.0</td>\n",
       "    </tr>\n",
       "    <tr>\n",
       "      <th>2660830</th>\n",
       "      <td>A002</td>\n",
       "      <td>R051</td>\n",
       "      <td>02-00-00</td>\n",
       "      <td>59 ST</td>\n",
       "      <td>NQR456W</td>\n",
       "      <td>BMT</td>\n",
       "      <td>03/31/2021</td>\n",
       "      <td>16:00:00</td>\n",
       "      <td>7552015</td>\n",
       "      <td>2021-03-31 16:00:00</td>\n",
       "      <td>2021-03-31 12:00:00</td>\n",
       "      <td>7551875.0</td>\n",
       "    </tr>\n",
       "    <tr>\n",
       "      <th>2660831</th>\n",
       "      <td>A002</td>\n",
       "      <td>R051</td>\n",
       "      <td>02-00-00</td>\n",
       "      <td>59 ST</td>\n",
       "      <td>NQR456W</td>\n",
       "      <td>BMT</td>\n",
       "      <td>03/31/2021</td>\n",
       "      <td>20:00:00</td>\n",
       "      <td>7552051</td>\n",
       "      <td>2021-03-31 20:00:00</td>\n",
       "      <td>2021-03-31 16:00:00</td>\n",
       "      <td>7552015.0</td>\n",
       "    </tr>\n",
       "    <tr>\n",
       "      <th>2660832</th>\n",
       "      <td>A002</td>\n",
       "      <td>R051</td>\n",
       "      <td>02-00-00</td>\n",
       "      <td>59 ST</td>\n",
       "      <td>NQR456W</td>\n",
       "      <td>BMT</td>\n",
       "      <td>04/01/2021</td>\n",
       "      <td>00:00:00</td>\n",
       "      <td>7552051</td>\n",
       "      <td>2021-04-01 00:00:00</td>\n",
       "      <td>2021-03-31 20:00:00</td>\n",
       "      <td>7552051.0</td>\n",
       "    </tr>\n",
       "    <tr>\n",
       "      <th>2660833</th>\n",
       "      <td>A002</td>\n",
       "      <td>R051</td>\n",
       "      <td>02-00-00</td>\n",
       "      <td>59 ST</td>\n",
       "      <td>NQR456W</td>\n",
       "      <td>BMT</td>\n",
       "      <td>04/01/2021</td>\n",
       "      <td>04:00:00</td>\n",
       "      <td>7552051</td>\n",
       "      <td>2021-04-01 04:00:00</td>\n",
       "      <td>2021-04-01 00:00:00</td>\n",
       "      <td>7552051.0</td>\n",
       "    </tr>\n",
       "    <tr>\n",
       "      <th>2660834</th>\n",
       "      <td>A002</td>\n",
       "      <td>R051</td>\n",
       "      <td>02-00-00</td>\n",
       "      <td>59 ST</td>\n",
       "      <td>NQR456W</td>\n",
       "      <td>BMT</td>\n",
       "      <td>04/01/2021</td>\n",
       "      <td>08:00:00</td>\n",
       "      <td>7552051</td>\n",
       "      <td>2021-04-01 08:00:00</td>\n",
       "      <td>2021-04-01 04:00:00</td>\n",
       "      <td>7552051.0</td>\n",
       "    </tr>\n",
       "    <tr>\n",
       "      <th>2660835</th>\n",
       "      <td>A002</td>\n",
       "      <td>R051</td>\n",
       "      <td>02-00-00</td>\n",
       "      <td>59 ST</td>\n",
       "      <td>NQR456W</td>\n",
       "      <td>BMT</td>\n",
       "      <td>04/01/2021</td>\n",
       "      <td>12:00:00</td>\n",
       "      <td>7552051</td>\n",
       "      <td>2021-04-01 12:00:00</td>\n",
       "      <td>2021-04-01 08:00:00</td>\n",
       "      <td>7552051.0</td>\n",
       "    </tr>\n",
       "  </tbody>\n",
       "</table>\n",
       "</div>"
      ],
      "text/plain": [
       "          C/A  UNIT       SCP STATION LINENAME DIVISION        DATE      TIME  \\\n",
       "2660826  A002  R051  02-00-00   59 ST  NQR456W      BMT  03/31/2021  00:00:00   \n",
       "2660827  A002  R051  02-00-00   59 ST  NQR456W      BMT  03/31/2021  04:00:00   \n",
       "2660828  A002  R051  02-00-00   59 ST  NQR456W      BMT  03/31/2021  08:00:00   \n",
       "2660829  A002  R051  02-00-00   59 ST  NQR456W      BMT  03/31/2021  12:00:00   \n",
       "2660830  A002  R051  02-00-00   59 ST  NQR456W      BMT  03/31/2021  16:00:00   \n",
       "2660831  A002  R051  02-00-00   59 ST  NQR456W      BMT  03/31/2021  20:00:00   \n",
       "2660832  A002  R051  02-00-00   59 ST  NQR456W      BMT  04/01/2021  00:00:00   \n",
       "2660833  A002  R051  02-00-00   59 ST  NQR456W      BMT  04/01/2021  04:00:00   \n",
       "2660834  A002  R051  02-00-00   59 ST  NQR456W      BMT  04/01/2021  08:00:00   \n",
       "2660835  A002  R051  02-00-00   59 ST  NQR456W      BMT  04/01/2021  12:00:00   \n",
       "\n",
       "         ENTRIES           DATE_TIME      PREV_DATE_TIME  PREV_ENTRIES  \n",
       "2660826  7551789 2021-03-31 00:00:00                 NaT           NaN  \n",
       "2660827  7551792 2021-03-31 04:00:00 2021-03-31 00:00:00     7551789.0  \n",
       "2660828  7551805 2021-03-31 08:00:00 2021-03-31 04:00:00     7551792.0  \n",
       "2660829  7551875 2021-03-31 12:00:00 2021-03-31 08:00:00     7551805.0  \n",
       "2660830  7552015 2021-03-31 16:00:00 2021-03-31 12:00:00     7551875.0  \n",
       "2660831  7552051 2021-03-31 20:00:00 2021-03-31 16:00:00     7552015.0  \n",
       "2660832  7552051 2021-04-01 00:00:00 2021-03-31 20:00:00     7552051.0  \n",
       "2660833  7552051 2021-04-01 04:00:00 2021-04-01 00:00:00     7552051.0  \n",
       "2660834  7552051 2021-04-01 08:00:00 2021-04-01 04:00:00     7552051.0  \n",
       "2660835  7552051 2021-04-01 12:00:00 2021-04-01 08:00:00     7552051.0  "
      ]
     },
     "execution_count": 14,
     "metadata": {},
     "output_type": "execute_result"
    }
   ],
   "source": [
    "turnstiles_test.head(10)"
   ]
  },
  {
   "cell_type": "code",
   "execution_count": 15,
   "id": "44e60e30-5199-42b6-8d78-f11dcd619911",
   "metadata": {},
   "outputs": [],
   "source": [
    "turnstiles_test.dropna(subset=[\"PREV_DATE_TIME\"], axis=0, inplace=True)"
   ]
  },
  {
   "cell_type": "code",
   "execution_count": 16,
   "id": "3185b64e-2317-4037-96c9-c5f724d907b0",
   "metadata": {},
   "outputs": [],
   "source": [
    "def get_counts(row, max_counter):\n",
    "    counter = row[\"ENTRIES\"] - row[\"PREV_ENTRIES\"]\n",
    "    if counter < 0:\n",
    "        counter = -counter\n",
    "    if counter > max_counter:\n",
    "        # print(row[\"ENTRIES\"], row[\"PREV_ENTRIES\"])\n",
    "        return 0\n",
    "    return counter\n",
    "_ = turnstiles_test.apply(get_counts, axis=1, max_counter=30000)"
   ]
  },
  {
   "cell_type": "code",
   "execution_count": 17,
   "id": "d38a7eec-c22e-458f-a6f2-9d76a1c7a552",
   "metadata": {},
   "outputs": [],
   "source": [
    "def get_counts(row, max_counter):\n",
    "    counter = row[\"ENTRIES\"] - row[\"PREV_ENTRIES\"]\n",
    "    if counter < 0:\n",
    "        counter = -counter\n",
    "    if counter > max_counter:\n",
    "        # print(row[\"ENTRIES\"], row[\"PREV_ENTRIES\"])\n",
    "        counter = min(row[\"ENTRIES\"], row[\"PREV_ENTRIES\"])\n",
    "    if counter > max_counter:\n",
    "        return 0\n",
    "    return counter\n",
    "turnstiles_test[\"TOTAL_ENTRIES\"] = turnstiles_test.apply(get_counts, axis=1, max_counter=30000)"
   ]
  },
  {
   "cell_type": "code",
   "execution_count": 18,
   "id": "24e92f3b-982d-4b63-a8ab-2b62e01856d9",
   "metadata": {},
   "outputs": [
    {
     "data": {
      "text/html": [
       "<div>\n",
       "<style scoped>\n",
       "    .dataframe tbody tr th:only-of-type {\n",
       "        vertical-align: middle;\n",
       "    }\n",
       "\n",
       "    .dataframe tbody tr th {\n",
       "        vertical-align: top;\n",
       "    }\n",
       "\n",
       "    .dataframe thead th {\n",
       "        text-align: right;\n",
       "    }\n",
       "</style>\n",
       "<table border=\"1\" class=\"dataframe\">\n",
       "  <thead>\n",
       "    <tr style=\"text-align: right;\">\n",
       "      <th></th>\n",
       "      <th>C/A</th>\n",
       "      <th>UNIT</th>\n",
       "      <th>SCP</th>\n",
       "      <th>STATION</th>\n",
       "      <th>LINENAME</th>\n",
       "      <th>DIVISION</th>\n",
       "      <th>DATE</th>\n",
       "      <th>TIME</th>\n",
       "      <th>ENTRIES</th>\n",
       "      <th>DATE_TIME</th>\n",
       "      <th>PREV_DATE_TIME</th>\n",
       "      <th>PREV_ENTRIES</th>\n",
       "      <th>TOTAL_ENTRIES</th>\n",
       "    </tr>\n",
       "  </thead>\n",
       "  <tbody>\n",
       "    <tr>\n",
       "      <th>2660827</th>\n",
       "      <td>A002</td>\n",
       "      <td>R051</td>\n",
       "      <td>02-00-00</td>\n",
       "      <td>59 ST</td>\n",
       "      <td>NQR456W</td>\n",
       "      <td>BMT</td>\n",
       "      <td>03/31/2021</td>\n",
       "      <td>04:00:00</td>\n",
       "      <td>7551792</td>\n",
       "      <td>2021-03-31 04:00:00</td>\n",
       "      <td>2021-03-31 00:00:00</td>\n",
       "      <td>7551789.0</td>\n",
       "      <td>3.0</td>\n",
       "    </tr>\n",
       "    <tr>\n",
       "      <th>2660828</th>\n",
       "      <td>A002</td>\n",
       "      <td>R051</td>\n",
       "      <td>02-00-00</td>\n",
       "      <td>59 ST</td>\n",
       "      <td>NQR456W</td>\n",
       "      <td>BMT</td>\n",
       "      <td>03/31/2021</td>\n",
       "      <td>08:00:00</td>\n",
       "      <td>7551805</td>\n",
       "      <td>2021-03-31 08:00:00</td>\n",
       "      <td>2021-03-31 04:00:00</td>\n",
       "      <td>7551792.0</td>\n",
       "      <td>13.0</td>\n",
       "    </tr>\n",
       "    <tr>\n",
       "      <th>2660829</th>\n",
       "      <td>A002</td>\n",
       "      <td>R051</td>\n",
       "      <td>02-00-00</td>\n",
       "      <td>59 ST</td>\n",
       "      <td>NQR456W</td>\n",
       "      <td>BMT</td>\n",
       "      <td>03/31/2021</td>\n",
       "      <td>12:00:00</td>\n",
       "      <td>7551875</td>\n",
       "      <td>2021-03-31 12:00:00</td>\n",
       "      <td>2021-03-31 08:00:00</td>\n",
       "      <td>7551805.0</td>\n",
       "      <td>70.0</td>\n",
       "    </tr>\n",
       "    <tr>\n",
       "      <th>2660830</th>\n",
       "      <td>A002</td>\n",
       "      <td>R051</td>\n",
       "      <td>02-00-00</td>\n",
       "      <td>59 ST</td>\n",
       "      <td>NQR456W</td>\n",
       "      <td>BMT</td>\n",
       "      <td>03/31/2021</td>\n",
       "      <td>16:00:00</td>\n",
       "      <td>7552015</td>\n",
       "      <td>2021-03-31 16:00:00</td>\n",
       "      <td>2021-03-31 12:00:00</td>\n",
       "      <td>7551875.0</td>\n",
       "      <td>140.0</td>\n",
       "    </tr>\n",
       "    <tr>\n",
       "      <th>2660831</th>\n",
       "      <td>A002</td>\n",
       "      <td>R051</td>\n",
       "      <td>02-00-00</td>\n",
       "      <td>59 ST</td>\n",
       "      <td>NQR456W</td>\n",
       "      <td>BMT</td>\n",
       "      <td>03/31/2021</td>\n",
       "      <td>20:00:00</td>\n",
       "      <td>7552051</td>\n",
       "      <td>2021-03-31 20:00:00</td>\n",
       "      <td>2021-03-31 16:00:00</td>\n",
       "      <td>7552015.0</td>\n",
       "      <td>36.0</td>\n",
       "    </tr>\n",
       "    <tr>\n",
       "      <th>2660832</th>\n",
       "      <td>A002</td>\n",
       "      <td>R051</td>\n",
       "      <td>02-00-00</td>\n",
       "      <td>59 ST</td>\n",
       "      <td>NQR456W</td>\n",
       "      <td>BMT</td>\n",
       "      <td>04/01/2021</td>\n",
       "      <td>00:00:00</td>\n",
       "      <td>7552051</td>\n",
       "      <td>2021-04-01 00:00:00</td>\n",
       "      <td>2021-03-31 20:00:00</td>\n",
       "      <td>7552051.0</td>\n",
       "      <td>0.0</td>\n",
       "    </tr>\n",
       "    <tr>\n",
       "      <th>2660833</th>\n",
       "      <td>A002</td>\n",
       "      <td>R051</td>\n",
       "      <td>02-00-00</td>\n",
       "      <td>59 ST</td>\n",
       "      <td>NQR456W</td>\n",
       "      <td>BMT</td>\n",
       "      <td>04/01/2021</td>\n",
       "      <td>04:00:00</td>\n",
       "      <td>7552051</td>\n",
       "      <td>2021-04-01 04:00:00</td>\n",
       "      <td>2021-04-01 00:00:00</td>\n",
       "      <td>7552051.0</td>\n",
       "      <td>0.0</td>\n",
       "    </tr>\n",
       "    <tr>\n",
       "      <th>2660834</th>\n",
       "      <td>A002</td>\n",
       "      <td>R051</td>\n",
       "      <td>02-00-00</td>\n",
       "      <td>59 ST</td>\n",
       "      <td>NQR456W</td>\n",
       "      <td>BMT</td>\n",
       "      <td>04/01/2021</td>\n",
       "      <td>08:00:00</td>\n",
       "      <td>7552051</td>\n",
       "      <td>2021-04-01 08:00:00</td>\n",
       "      <td>2021-04-01 04:00:00</td>\n",
       "      <td>7552051.0</td>\n",
       "      <td>0.0</td>\n",
       "    </tr>\n",
       "    <tr>\n",
       "      <th>2660835</th>\n",
       "      <td>A002</td>\n",
       "      <td>R051</td>\n",
       "      <td>02-00-00</td>\n",
       "      <td>59 ST</td>\n",
       "      <td>NQR456W</td>\n",
       "      <td>BMT</td>\n",
       "      <td>04/01/2021</td>\n",
       "      <td>12:00:00</td>\n",
       "      <td>7552051</td>\n",
       "      <td>2021-04-01 12:00:00</td>\n",
       "      <td>2021-04-01 08:00:00</td>\n",
       "      <td>7552051.0</td>\n",
       "      <td>0.0</td>\n",
       "    </tr>\n",
       "    <tr>\n",
       "      <th>2660836</th>\n",
       "      <td>A002</td>\n",
       "      <td>R051</td>\n",
       "      <td>02-00-00</td>\n",
       "      <td>59 ST</td>\n",
       "      <td>NQR456W</td>\n",
       "      <td>BMT</td>\n",
       "      <td>04/01/2021</td>\n",
       "      <td>16:00:00</td>\n",
       "      <td>7552051</td>\n",
       "      <td>2021-04-01 16:00:00</td>\n",
       "      <td>2021-04-01 12:00:00</td>\n",
       "      <td>7552051.0</td>\n",
       "      <td>0.0</td>\n",
       "    </tr>\n",
       "  </tbody>\n",
       "</table>\n",
       "</div>"
      ],
      "text/plain": [
       "          C/A  UNIT       SCP STATION LINENAME DIVISION        DATE      TIME  \\\n",
       "2660827  A002  R051  02-00-00   59 ST  NQR456W      BMT  03/31/2021  04:00:00   \n",
       "2660828  A002  R051  02-00-00   59 ST  NQR456W      BMT  03/31/2021  08:00:00   \n",
       "2660829  A002  R051  02-00-00   59 ST  NQR456W      BMT  03/31/2021  12:00:00   \n",
       "2660830  A002  R051  02-00-00   59 ST  NQR456W      BMT  03/31/2021  16:00:00   \n",
       "2660831  A002  R051  02-00-00   59 ST  NQR456W      BMT  03/31/2021  20:00:00   \n",
       "2660832  A002  R051  02-00-00   59 ST  NQR456W      BMT  04/01/2021  00:00:00   \n",
       "2660833  A002  R051  02-00-00   59 ST  NQR456W      BMT  04/01/2021  04:00:00   \n",
       "2660834  A002  R051  02-00-00   59 ST  NQR456W      BMT  04/01/2021  08:00:00   \n",
       "2660835  A002  R051  02-00-00   59 ST  NQR456W      BMT  04/01/2021  12:00:00   \n",
       "2660836  A002  R051  02-00-00   59 ST  NQR456W      BMT  04/01/2021  16:00:00   \n",
       "\n",
       "         ENTRIES           DATE_TIME      PREV_DATE_TIME  PREV_ENTRIES  \\\n",
       "2660827  7551792 2021-03-31 04:00:00 2021-03-31 00:00:00     7551789.0   \n",
       "2660828  7551805 2021-03-31 08:00:00 2021-03-31 04:00:00     7551792.0   \n",
       "2660829  7551875 2021-03-31 12:00:00 2021-03-31 08:00:00     7551805.0   \n",
       "2660830  7552015 2021-03-31 16:00:00 2021-03-31 12:00:00     7551875.0   \n",
       "2660831  7552051 2021-03-31 20:00:00 2021-03-31 16:00:00     7552015.0   \n",
       "2660832  7552051 2021-04-01 00:00:00 2021-03-31 20:00:00     7552051.0   \n",
       "2660833  7552051 2021-04-01 04:00:00 2021-04-01 00:00:00     7552051.0   \n",
       "2660834  7552051 2021-04-01 08:00:00 2021-04-01 04:00:00     7552051.0   \n",
       "2660835  7552051 2021-04-01 12:00:00 2021-04-01 08:00:00     7552051.0   \n",
       "2660836  7552051 2021-04-01 16:00:00 2021-04-01 12:00:00     7552051.0   \n",
       "\n",
       "         TOTAL_ENTRIES  \n",
       "2660827            3.0  \n",
       "2660828           13.0  \n",
       "2660829           70.0  \n",
       "2660830          140.0  \n",
       "2660831           36.0  \n",
       "2660832            0.0  \n",
       "2660833            0.0  \n",
       "2660834            0.0  \n",
       "2660835            0.0  \n",
       "2660836            0.0  "
      ]
     },
     "execution_count": 18,
     "metadata": {},
     "output_type": "execute_result"
    }
   ],
   "source": [
    "turnstiles_test.head(10)"
   ]
  },
  {
   "cell_type": "markdown",
   "id": "23474ac0-1ad0-4d70-8296-7dd39e769dab",
   "metadata": {
    "tags": []
   },
   "source": [
    "### Masking by Time of Day & Aggregating Data"
   ]
  },
  {
   "cell_type": "markdown",
   "id": "fa26f06a-9d18-4d9b-acb4-9184e85dc329",
   "metadata": {},
   "source": [
    "Now that total entries (rather than cumulative entries) has been calculated for each time block for each turnstile, I can proceed with masking the data set for 12-8pm.\n",
    "I'm interested in measuring foot traffic for a food truck, so I need to filter the data down to the time of day for lunch and dinner.\n",
    "\n",
    "In order to calculate the full count of total entries for 4/1, I initially had to include 3/31 data. 3/31 data will now also be filtered out with the data mask."
   ]
  },
  {
   "cell_type": "code",
   "execution_count": 19,
   "id": "0d64c42f-6347-4b05-9bf4-a84a899b64f1",
   "metadata": {},
   "outputs": [],
   "source": [
    "turnstiles_test['TIME'] = pd.to_datetime(turnstiles_test.TIME)\n",
    "turnstiles_test['DATE'] = pd.to_datetime(turnstiles_test.DATE)"
   ]
  },
  {
   "cell_type": "code",
   "execution_count": 20,
   "id": "e93fd37e-370a-4578-ad1b-c3d3273fe02c",
   "metadata": {},
   "outputs": [],
   "source": [
    "noon_8_mask = ((turnstiles_test['TIME'] >= '12:00:00') & (turnstiles_test['TIME'] <= '20:00:00') & (turnstiles_test['DATE'] >= '04/01/2021'))"
   ]
  },
  {
   "cell_type": "code",
   "execution_count": 21,
   "id": "ce02386a-4d04-4ee5-91bd-c82f3ce35dd6",
   "metadata": {},
   "outputs": [],
   "source": [
    "turnstiles_12to8 = turnstiles_test[noon_8_mask]"
   ]
  },
  {
   "cell_type": "code",
   "execution_count": 22,
   "id": "ac8b8133-6708-4616-bde0-9b06cbe4fda4",
   "metadata": {},
   "outputs": [
    {
     "data": {
      "text/html": [
       "<div>\n",
       "<style scoped>\n",
       "    .dataframe tbody tr th:only-of-type {\n",
       "        vertical-align: middle;\n",
       "    }\n",
       "\n",
       "    .dataframe tbody tr th {\n",
       "        vertical-align: top;\n",
       "    }\n",
       "\n",
       "    .dataframe thead th {\n",
       "        text-align: right;\n",
       "    }\n",
       "</style>\n",
       "<table border=\"1\" class=\"dataframe\">\n",
       "  <thead>\n",
       "    <tr style=\"text-align: right;\">\n",
       "      <th></th>\n",
       "      <th>C/A</th>\n",
       "      <th>UNIT</th>\n",
       "      <th>SCP</th>\n",
       "      <th>STATION</th>\n",
       "      <th>DATE</th>\n",
       "      <th>TOTAL_ENTRIES</th>\n",
       "    </tr>\n",
       "  </thead>\n",
       "  <tbody>\n",
       "    <tr>\n",
       "      <th>0</th>\n",
       "      <td>A002</td>\n",
       "      <td>R051</td>\n",
       "      <td>02-00-00</td>\n",
       "      <td>59 ST</td>\n",
       "      <td>2021-04-01</td>\n",
       "      <td>0.0</td>\n",
       "    </tr>\n",
       "    <tr>\n",
       "      <th>1</th>\n",
       "      <td>A002</td>\n",
       "      <td>R051</td>\n",
       "      <td>02-00-00</td>\n",
       "      <td>59 ST</td>\n",
       "      <td>2021-04-02</td>\n",
       "      <td>0.0</td>\n",
       "    </tr>\n",
       "    <tr>\n",
       "      <th>2</th>\n",
       "      <td>A002</td>\n",
       "      <td>R051</td>\n",
       "      <td>02-00-00</td>\n",
       "      <td>59 ST</td>\n",
       "      <td>2021-04-03</td>\n",
       "      <td>0.0</td>\n",
       "    </tr>\n",
       "    <tr>\n",
       "      <th>3</th>\n",
       "      <td>A002</td>\n",
       "      <td>R051</td>\n",
       "      <td>02-00-00</td>\n",
       "      <td>59 ST</td>\n",
       "      <td>2021-04-04</td>\n",
       "      <td>0.0</td>\n",
       "    </tr>\n",
       "    <tr>\n",
       "      <th>4</th>\n",
       "      <td>A002</td>\n",
       "      <td>R051</td>\n",
       "      <td>02-00-00</td>\n",
       "      <td>59 ST</td>\n",
       "      <td>2021-04-05</td>\n",
       "      <td>391.0</td>\n",
       "    </tr>\n",
       "  </tbody>\n",
       "</table>\n",
       "</div>"
      ],
      "text/plain": [
       "    C/A  UNIT       SCP STATION       DATE  TOTAL_ENTRIES\n",
       "0  A002  R051  02-00-00   59 ST 2021-04-01            0.0\n",
       "1  A002  R051  02-00-00   59 ST 2021-04-02            0.0\n",
       "2  A002  R051  02-00-00   59 ST 2021-04-03            0.0\n",
       "3  A002  R051  02-00-00   59 ST 2021-04-04            0.0\n",
       "4  A002  R051  02-00-00   59 ST 2021-04-05          391.0"
      ]
     },
     "execution_count": 22,
     "metadata": {},
     "output_type": "execute_result"
    }
   ],
   "source": [
    "turnstiles_daily = turnstiles_12to8.groupby([\"C/A\", \"UNIT\", \"SCP\", \"STATION\", \"DATE\"])[['TOTAL_ENTRIES']].sum().reset_index()\n",
    "turnstiles_daily.head()"
   ]
  },
  {
   "cell_type": "code",
   "execution_count": 23,
   "id": "5a824e22-f477-44d2-bc58-1482a157b745",
   "metadata": {},
   "outputs": [
    {
     "data": {
      "text/html": [
       "<div>\n",
       "<style scoped>\n",
       "    .dataframe tbody tr th:only-of-type {\n",
       "        vertical-align: middle;\n",
       "    }\n",
       "\n",
       "    .dataframe tbody tr th {\n",
       "        vertical-align: top;\n",
       "    }\n",
       "\n",
       "    .dataframe thead th {\n",
       "        text-align: right;\n",
       "    }\n",
       "</style>\n",
       "<table border=\"1\" class=\"dataframe\">\n",
       "  <thead>\n",
       "    <tr style=\"text-align: right;\">\n",
       "      <th></th>\n",
       "      <th>STATION</th>\n",
       "      <th>DATE</th>\n",
       "      <th>TOTAL_ENTRIES</th>\n",
       "    </tr>\n",
       "  </thead>\n",
       "  <tbody>\n",
       "    <tr>\n",
       "      <th>0</th>\n",
       "      <td>1 AV</td>\n",
       "      <td>2021-04-01</td>\n",
       "      <td>5113.0</td>\n",
       "    </tr>\n",
       "    <tr>\n",
       "      <th>1</th>\n",
       "      <td>1 AV</td>\n",
       "      <td>2021-04-02</td>\n",
       "      <td>5060.0</td>\n",
       "    </tr>\n",
       "    <tr>\n",
       "      <th>2</th>\n",
       "      <td>1 AV</td>\n",
       "      <td>2021-04-03</td>\n",
       "      <td>3647.0</td>\n",
       "    </tr>\n",
       "    <tr>\n",
       "      <th>3</th>\n",
       "      <td>1 AV</td>\n",
       "      <td>2021-04-04</td>\n",
       "      <td>2866.0</td>\n",
       "    </tr>\n",
       "    <tr>\n",
       "      <th>4</th>\n",
       "      <td>1 AV</td>\n",
       "      <td>2021-04-05</td>\n",
       "      <td>4983.0</td>\n",
       "    </tr>\n",
       "  </tbody>\n",
       "</table>\n",
       "</div>"
      ],
      "text/plain": [
       "  STATION       DATE  TOTAL_ENTRIES\n",
       "0    1 AV 2021-04-01         5113.0\n",
       "1    1 AV 2021-04-02         5060.0\n",
       "2    1 AV 2021-04-03         3647.0\n",
       "3    1 AV 2021-04-04         2866.0\n",
       "4    1 AV 2021-04-05         4983.0"
      ]
     },
     "execution_count": 23,
     "metadata": {},
     "output_type": "execute_result"
    }
   ],
   "source": [
    "station_daily = turnstiles_daily.groupby([\"STATION\", \"DATE\"])[['TOTAL_ENTRIES']].sum().reset_index()\n",
    "station_daily.head()"
   ]
  },
  {
   "cell_type": "code",
   "execution_count": 24,
   "id": "0a90473f-124c-43d5-bd08-bcb4b27c20b0",
   "metadata": {},
   "outputs": [
    {
     "data": {
      "text/html": [
       "<div>\n",
       "<style scoped>\n",
       "    .dataframe tbody tr th:only-of-type {\n",
       "        vertical-align: middle;\n",
       "    }\n",
       "\n",
       "    .dataframe tbody tr th {\n",
       "        vertical-align: top;\n",
       "    }\n",
       "\n",
       "    .dataframe thead th {\n",
       "        text-align: right;\n",
       "    }\n",
       "</style>\n",
       "<table border=\"1\" class=\"dataframe\">\n",
       "  <thead>\n",
       "    <tr style=\"text-align: right;\">\n",
       "      <th></th>\n",
       "      <th>STATION</th>\n",
       "      <th>TOTAL_ENTRIES</th>\n",
       "    </tr>\n",
       "  </thead>\n",
       "  <tbody>\n",
       "    <tr>\n",
       "      <th>0</th>\n",
       "      <td>34 ST-PENN STA</td>\n",
       "      <td>2230660.0</td>\n",
       "    </tr>\n",
       "    <tr>\n",
       "      <th>1</th>\n",
       "      <td>34 ST-HERALD SQ</td>\n",
       "      <td>2159932.0</td>\n",
       "    </tr>\n",
       "    <tr>\n",
       "      <th>2</th>\n",
       "      <td>86 ST</td>\n",
       "      <td>1870307.0</td>\n",
       "    </tr>\n",
       "    <tr>\n",
       "      <th>3</th>\n",
       "      <td>23 ST</td>\n",
       "      <td>1679849.0</td>\n",
       "    </tr>\n",
       "    <tr>\n",
       "      <th>4</th>\n",
       "      <td>GRD CNTRL-42 ST</td>\n",
       "      <td>1579868.0</td>\n",
       "    </tr>\n",
       "    <tr>\n",
       "      <th>5</th>\n",
       "      <td>125 ST</td>\n",
       "      <td>1495648.0</td>\n",
       "    </tr>\n",
       "    <tr>\n",
       "      <th>6</th>\n",
       "      <td>59 ST</td>\n",
       "      <td>1474803.0</td>\n",
       "    </tr>\n",
       "    <tr>\n",
       "      <th>7</th>\n",
       "      <td>42 ST-PORT AUTH</td>\n",
       "      <td>1403463.0</td>\n",
       "    </tr>\n",
       "    <tr>\n",
       "      <th>8</th>\n",
       "      <td>TIMES SQ-42 ST</td>\n",
       "      <td>1373749.0</td>\n",
       "    </tr>\n",
       "    <tr>\n",
       "      <th>9</th>\n",
       "      <td>FLUSHING-MAIN</td>\n",
       "      <td>1356073.0</td>\n",
       "    </tr>\n",
       "  </tbody>\n",
       "</table>\n",
       "</div>"
      ],
      "text/plain": [
       "           STATION  TOTAL_ENTRIES\n",
       "0   34 ST-PENN STA      2230660.0\n",
       "1  34 ST-HERALD SQ      2159932.0\n",
       "2            86 ST      1870307.0\n",
       "3            23 ST      1679849.0\n",
       "4  GRD CNTRL-42 ST      1579868.0\n",
       "5           125 ST      1495648.0\n",
       "6            59 ST      1474803.0\n",
       "7  42 ST-PORT AUTH      1403463.0\n",
       "8   TIMES SQ-42 ST      1373749.0\n",
       "9    FLUSHING-MAIN      1356073.0"
      ]
     },
     "execution_count": 24,
     "metadata": {},
     "output_type": "execute_result"
    }
   ],
   "source": [
    "station_totals = station_daily.groupby('STATION').sum()\\\n",
    "    .sort_values('TOTAL_ENTRIES', ascending=False)\\\n",
    "    .reset_index()\n",
    "station_totals.head(10)"
   ]
  },
  {
   "cell_type": "markdown",
   "id": "5b968ed7-62fa-4965-ae2b-f5da7b5d8c73",
   "metadata": {},
   "source": [
    "This table represents the top 10 stations by total foot traffic from 4/1/21 to 6/30/21 during the 12-8pm timeframe."
   ]
  },
  {
   "cell_type": "code",
   "execution_count": 25,
   "id": "a47f3363-f09f-4dec-90f2-d1b18ff0463b",
   "metadata": {},
   "outputs": [],
   "source": [
    "import numpy as np\n",
    "import matplotlib.pyplot as plt\n",
    "import seaborn as sns"
   ]
  },
  {
   "cell_type": "code",
   "execution_count": 26,
   "id": "39ba2ac9-81e5-449a-9d46-1d857990908e",
   "metadata": {},
   "outputs": [
    {
     "data": {
      "image/png": "[encoded data removed]",
      "text/plain": [
       "<Figure size 432x288 with 1 Axes>"
      ]
     },
     "metadata": {
      "needs_background": "light"
     },
     "output_type": "display_data"
    }
   ],
   "source": [
    "top_10_stations = station_totals.head(10)\n",
    "top_10_stations.plot(kind='bar', x='STATION')\n",
    "plt.ticklabel_format(style='plain', axis='y', useOffset=False)"
   ]
  },
  {
   "cell_type": "code",
   "execution_count": 27,
   "id": "0a2be255-d2bd-4b96-a267-a5d8d6e56d64",
   "metadata": {},
   "outputs": [],
   "source": [
    "station_daily['DAY_OF_WEEK'] = station_daily.DATE.dt.weekday"
   ]
  },
  {
   "cell_type": "code",
   "execution_count": 28,
   "id": "0ed6e638-e218-4f1b-a9d1-d65f4ab75c5b",
   "metadata": {},
   "outputs": [],
   "source": [
    "weekday_mask = ((station_daily['DAY_OF_WEEK'] >= 0) & (station_daily['DAY_OF_WEEK'] <= 4))"
   ]
  },
  {
   "cell_type": "code",
   "execution_count": 29,
   "id": "16c3fa9f-1fc1-4c18-8ce0-c4132d555fc9",
   "metadata": {},
   "outputs": [],
   "source": [
    "station_totals_weekday = station_daily[weekday_mask].groupby('STATION').sum()\\\n",
    "    .sort_values('TOTAL_ENTRIES', ascending=False)\\\n",
    "    .reset_index()"
   ]
  },
  {
   "cell_type": "code",
   "execution_count": 30,
   "id": "060fe6ce-1fef-4deb-a090-e940183ca9c3",
   "metadata": {},
   "outputs": [],
   "source": [
    "weekend_mask = ((station_daily['DAY_OF_WEEK'] >= 5) & (station_daily['DAY_OF_WEEK'] <= 6))"
   ]
  },
  {
   "cell_type": "code",
   "execution_count": 31,
   "id": "c481e207-7471-4d0c-9cea-ab99b4a1fa37",
   "metadata": {},
   "outputs": [],
   "source": [
    "station_totals_weekend = station_daily[weekend_mask].groupby('STATION').sum()\\\n",
    "    .sort_values('TOTAL_ENTRIES', ascending=False)\\\n",
    "    .reset_index()"
   ]
  },
  {
   "cell_type": "code",
   "execution_count": 53,
   "id": "e1db48c4-8acf-463a-9f5b-93af7568f743",
   "metadata": {},
   "outputs": [
    {
     "data": {
      "image/png": "[encoded data removed]",
      "text/plain": [
       "<Figure size 432x288 with 2 Axes>"
      ]
     },
     "metadata": {
      "needs_background": "light"
     },
     "output_type": "display_data"
    }
   ],
   "source": [
    "plt.subplot(1,2,1)\n",
    "plt.bar(station_totals_weekday.STATION.head(10), station_totals_weekday.TOTAL_ENTRIES.head(10)/5, color='g')\n",
    "plt.xticks(rotation='vertical')\n",
    "plt.yticks([50000,100000,150000,200000,250000,300000,350000,400000])\n",
    "plt.ylabel('Average Daily Entries')\n",
    "plt.title('Weekday Traffic')\n",
    "\n",
    "plt.subplot(1,2,2)\n",
    "plt.bar(station_totals_weekend.STATION.head(10), station_totals_weekend.TOTAL_ENTRIES.head(10)/2)\n",
    "plt.xticks(rotation='vertical')\n",
    "plt.yticks([50000,100000,150000,200000,250000,300000,350000,400000])\n",
    "plt.ylabel('Average Daily Entries')\n",
    "plt.title('Weekend Traffic')\n",
    "\n",
    "plt.subplots_adjust(wspace=0.5)"
   ]
  },
  {
   "cell_type": "markdown",
   "id": "d033b4cc-de4f-4c73-abeb-0b748b42c5f5",
   "metadata": {},
   "source": [
    "### Merging Precipitation Data"
   ]
  },
  {
   "cell_type": "code",
   "execution_count": 54,
   "id": "e8004d82-2a9d-45a5-bdbc-0a18f88867cb",
   "metadata": {},
   "outputs": [
    {
     "data": {
      "text/plain": [
       "(91, 2)"
      ]
     },
     "execution_count": 54,
     "metadata": {},
     "output_type": "execute_result"
    }
   ],
   "source": [
    "weather_data = pd.read_csv('NYC_Weather.csv')\n",
    "weather_data.shape"
   ]
  },
  {
   "cell_type": "code",
   "execution_count": 55,
   "id": "96cea6b4-666c-43ad-96dc-e3eac986d86f",
   "metadata": {},
   "outputs": [],
   "source": [
    "weather_data['DATE'] = pd.to_datetime(weather_data.DATE)"
   ]
  },
  {
   "cell_type": "code",
   "execution_count": 56,
   "id": "e89338cb-83eb-4f91-b8f6-bed8570db6b7",
   "metadata": {},
   "outputs": [],
   "source": [
    "weather_data['PRCP'] = pd.to_numeric(weather_data.PRCP)\n",
    "#PRCP = precipitation in inches"
   ]
  },
  {
   "cell_type": "code",
   "execution_count": 57,
   "id": "a3970920-f585-455e-a29e-3cda0f1df320",
   "metadata": {},
   "outputs": [
    {
     "data": {
      "text/plain": [
       "DATE    datetime64[ns]\n",
       "PRCP           float64\n",
       "dtype: object"
      ]
     },
     "execution_count": 57,
     "metadata": {},
     "output_type": "execute_result"
    }
   ],
   "source": [
    "weather_data.dtypes"
   ]
  },
  {
   "cell_type": "code",
   "execution_count": 58,
   "id": "eb58cb5d-8f3f-41df-94ea-cd4268223b67",
   "metadata": {},
   "outputs": [
    {
     "data": {
      "image/png": "[encoded data removed]",
      "text/plain": [
       "<Figure size 432x288 with 1 Axes>"
      ]
     },
     "metadata": {
      "needs_background": "light"
     },
     "output_type": "display_data"
    }
   ],
   "source": [
    "plt.plot(weather_data.DATE, weather_data.PRCP)\n",
    "plt.xticks(rotation='vertical');"
   ]
  },
  {
   "cell_type": "code",
   "execution_count": 74,
   "id": "3ce25075-7743-487e-9e50-6964179c0aa1",
   "metadata": {},
   "outputs": [
    {
     "data": {
      "image/png": "[encoded data removed]",
      "text/plain": [
       "<Figure size 432x288 with 1 Axes>"
      ]
     },
     "metadata": {
      "needs_background": "light"
     },
     "output_type": "display_data"
    }
   ],
   "source": [
    "p1 = sns.histplot(weather_data.PRCP, stat = 'density')\n",
    "p1.set_title('Raw Precipitation Frequency')\n",
    "p1.set_xlabel('Daily Precipitation in Inches')\n",
    "p1.set_ylabel('Total Days');"
   ]
  },
  {
   "cell_type": "code",
   "execution_count": 60,
   "id": "28fa62f6-e2e8-490f-87db-852ee00ba68b",
   "metadata": {},
   "outputs": [
    {
     "data": {
      "text/html": [
       "<div>\n",
       "<style scoped>\n",
       "    .dataframe tbody tr th:only-of-type {\n",
       "        vertical-align: middle;\n",
       "    }\n",
       "\n",
       "    .dataframe tbody tr th {\n",
       "        vertical-align: top;\n",
       "    }\n",
       "\n",
       "    .dataframe thead th {\n",
       "        text-align: right;\n",
       "    }\n",
       "</style>\n",
       "<table border=\"1\" class=\"dataframe\">\n",
       "  <thead>\n",
       "    <tr style=\"text-align: right;\">\n",
       "      <th></th>\n",
       "      <th>STATION</th>\n",
       "      <th>DATE</th>\n",
       "      <th>TOTAL_ENTRIES</th>\n",
       "      <th>DAY_OF_WEEK</th>\n",
       "      <th>PRCP</th>\n",
       "    </tr>\n",
       "  </thead>\n",
       "  <tbody>\n",
       "    <tr>\n",
       "      <th>0</th>\n",
       "      <td>1 AV</td>\n",
       "      <td>2021-04-01</td>\n",
       "      <td>5113.0</td>\n",
       "      <td>3</td>\n",
       "      <td>0.33</td>\n",
       "    </tr>\n",
       "    <tr>\n",
       "      <th>1</th>\n",
       "      <td>103 ST</td>\n",
       "      <td>2021-04-01</td>\n",
       "      <td>5581.0</td>\n",
       "      <td>3</td>\n",
       "      <td>0.33</td>\n",
       "    </tr>\n",
       "    <tr>\n",
       "      <th>2</th>\n",
       "      <td>103 ST-CORONA</td>\n",
       "      <td>2021-04-01</td>\n",
       "      <td>6095.0</td>\n",
       "      <td>3</td>\n",
       "      <td>0.33</td>\n",
       "    </tr>\n",
       "    <tr>\n",
       "      <th>3</th>\n",
       "      <td>104 ST</td>\n",
       "      <td>2021-04-01</td>\n",
       "      <td>1022.0</td>\n",
       "      <td>3</td>\n",
       "      <td>0.33</td>\n",
       "    </tr>\n",
       "    <tr>\n",
       "      <th>4</th>\n",
       "      <td>110 ST</td>\n",
       "      <td>2021-04-01</td>\n",
       "      <td>3059.0</td>\n",
       "      <td>3</td>\n",
       "      <td>0.33</td>\n",
       "    </tr>\n",
       "    <tr>\n",
       "      <th>...</th>\n",
       "      <td>...</td>\n",
       "      <td>...</td>\n",
       "      <td>...</td>\n",
       "      <td>...</td>\n",
       "      <td>...</td>\n",
       "    </tr>\n",
       "    <tr>\n",
       "      <th>34426</th>\n",
       "      <td>WOODLAWN</td>\n",
       "      <td>2021-06-30</td>\n",
       "      <td>2027.0</td>\n",
       "      <td>2</td>\n",
       "      <td>0.00</td>\n",
       "    </tr>\n",
       "    <tr>\n",
       "      <th>34427</th>\n",
       "      <td>WORLD TRADE CTR</td>\n",
       "      <td>2021-06-30</td>\n",
       "      <td>3310.0</td>\n",
       "      <td>2</td>\n",
       "      <td>0.00</td>\n",
       "    </tr>\n",
       "    <tr>\n",
       "      <th>34428</th>\n",
       "      <td>WTC-CORTLANDT</td>\n",
       "      <td>2021-06-30</td>\n",
       "      <td>1528.0</td>\n",
       "      <td>2</td>\n",
       "      <td>0.00</td>\n",
       "    </tr>\n",
       "    <tr>\n",
       "      <th>34429</th>\n",
       "      <td>YORK ST</td>\n",
       "      <td>2021-06-30</td>\n",
       "      <td>1696.0</td>\n",
       "      <td>2</td>\n",
       "      <td>0.00</td>\n",
       "    </tr>\n",
       "    <tr>\n",
       "      <th>34430</th>\n",
       "      <td>ZEREGA AV</td>\n",
       "      <td>2021-06-30</td>\n",
       "      <td>436.0</td>\n",
       "      <td>2</td>\n",
       "      <td>0.00</td>\n",
       "    </tr>\n",
       "  </tbody>\n",
       "</table>\n",
       "<p>34431 rows × 5 columns</p>\n",
       "</div>"
      ],
      "text/plain": [
       "               STATION       DATE  TOTAL_ENTRIES  DAY_OF_WEEK  PRCP\n",
       "0                 1 AV 2021-04-01         5113.0            3  0.33\n",
       "1               103 ST 2021-04-01         5581.0            3  0.33\n",
       "2        103 ST-CORONA 2021-04-01         6095.0            3  0.33\n",
       "3               104 ST 2021-04-01         1022.0            3  0.33\n",
       "4               110 ST 2021-04-01         3059.0            3  0.33\n",
       "...                ...        ...            ...          ...   ...\n",
       "34426         WOODLAWN 2021-06-30         2027.0            2  0.00\n",
       "34427  WORLD TRADE CTR 2021-06-30         3310.0            2  0.00\n",
       "34428    WTC-CORTLANDT 2021-06-30         1528.0            2  0.00\n",
       "34429          YORK ST 2021-06-30         1696.0            2  0.00\n",
       "34430        ZEREGA AV 2021-06-30          436.0            2  0.00\n",
       "\n",
       "[34431 rows x 5 columns]"
      ]
     },
     "execution_count": 60,
     "metadata": {},
     "output_type": "execute_result"
    }
   ],
   "source": [
    "station_daily2 = pd.merge(station_daily, weather_data, on='DATE')\n",
    "station_daily2"
   ]
  },
  {
   "cell_type": "code",
   "execution_count": 61,
   "id": "39fef158-8578-4e3a-8c69-784df4a4890b",
   "metadata": {},
   "outputs": [],
   "source": [
    "def PRCP_categories(row):\n",
    "    precip_value = row['PRCP']\n",
    "    if precip_value == 0:\n",
    "        return 'no precip'\n",
    "    if precip_value > 0 and precip_value < 0.25:\n",
    "        return 'low precip'\n",
    "    if precip_value >= 0.25:\n",
    "        return 'high precip'"
   ]
  },
  {
   "cell_type": "code",
   "execution_count": 62,
   "id": "5af4f09d-6475-4be8-a19f-9bf341a59a49",
   "metadata": {},
   "outputs": [],
   "source": [
    "station_daily2['PRCP_BINS'] = station_daily2.apply(PRCP_categories, axis=1)"
   ]
  },
  {
   "cell_type": "code",
   "execution_count": 63,
   "id": "ed32e705-6b26-408b-aa43-1c047f9ed7b8",
   "metadata": {},
   "outputs": [
    {
     "data": {
      "text/html": [
       "<div>\n",
       "<style scoped>\n",
       "    .dataframe tbody tr th:only-of-type {\n",
       "        vertical-align: middle;\n",
       "    }\n",
       "\n",
       "    .dataframe tbody tr th {\n",
       "        vertical-align: top;\n",
       "    }\n",
       "\n",
       "    .dataframe thead th {\n",
       "        text-align: right;\n",
       "    }\n",
       "</style>\n",
       "<table border=\"1\" class=\"dataframe\">\n",
       "  <thead>\n",
       "    <tr style=\"text-align: right;\">\n",
       "      <th></th>\n",
       "      <th>STATION</th>\n",
       "      <th>DATE</th>\n",
       "      <th>TOTAL_ENTRIES</th>\n",
       "      <th>DAY_OF_WEEK</th>\n",
       "      <th>PRCP</th>\n",
       "      <th>PRCP_BINS</th>\n",
       "    </tr>\n",
       "  </thead>\n",
       "  <tbody>\n",
       "    <tr>\n",
       "      <th>5643</th>\n",
       "      <td>THIRTY THIRD ST</td>\n",
       "      <td>2021-04-15</td>\n",
       "      <td>2375.0</td>\n",
       "      <td>3</td>\n",
       "      <td>0.00</td>\n",
       "      <td>no precip</td>\n",
       "    </tr>\n",
       "    <tr>\n",
       "      <th>28969</th>\n",
       "      <td>FRANKLIN AV</td>\n",
       "      <td>2021-06-16</td>\n",
       "      <td>4802.0</td>\n",
       "      <td>2</td>\n",
       "      <td>0.00</td>\n",
       "      <td>no precip</td>\n",
       "    </tr>\n",
       "    <tr>\n",
       "      <th>21502</th>\n",
       "      <td>ROCKAWAY BLVD</td>\n",
       "      <td>2021-05-27</td>\n",
       "      <td>1306.0</td>\n",
       "      <td>3</td>\n",
       "      <td>0.27</td>\n",
       "      <td>high precip</td>\n",
       "    </tr>\n",
       "    <tr>\n",
       "      <th>17574</th>\n",
       "      <td>CLASSON AV</td>\n",
       "      <td>2021-05-17</td>\n",
       "      <td>1310.0</td>\n",
       "      <td>0</td>\n",
       "      <td>0.00</td>\n",
       "      <td>no precip</td>\n",
       "    </tr>\n",
       "    <tr>\n",
       "      <th>25282</th>\n",
       "      <td>PROSPECT PARK</td>\n",
       "      <td>2021-06-06</td>\n",
       "      <td>2381.0</td>\n",
       "      <td>6</td>\n",
       "      <td>0.00</td>\n",
       "      <td>no precip</td>\n",
       "    </tr>\n",
       "  </tbody>\n",
       "</table>\n",
       "</div>"
      ],
      "text/plain": [
       "               STATION       DATE  TOTAL_ENTRIES  DAY_OF_WEEK  PRCP  \\\n",
       "5643   THIRTY THIRD ST 2021-04-15         2375.0            3  0.00   \n",
       "28969      FRANKLIN AV 2021-06-16         4802.0            2  0.00   \n",
       "21502    ROCKAWAY BLVD 2021-05-27         1306.0            3  0.27   \n",
       "17574       CLASSON AV 2021-05-17         1310.0            0  0.00   \n",
       "25282    PROSPECT PARK 2021-06-06         2381.0            6  0.00   \n",
       "\n",
       "         PRCP_BINS  \n",
       "5643     no precip  \n",
       "28969    no precip  \n",
       "21502  high precip  \n",
       "17574    no precip  \n",
       "25282    no precip  "
      ]
     },
     "execution_count": 63,
     "metadata": {},
     "output_type": "execute_result"
    }
   ],
   "source": [
    "station_daily2.sample(5)"
   ]
  },
  {
   "cell_type": "code",
   "execution_count": 77,
   "id": "514e1027-5a35-48b2-a215-e94c8d9cf233",
   "metadata": {},
   "outputs": [
    {
     "data": {
      "image/png": "[encoded data removed]",
      "text/plain": [
       "<Figure size 432x288 with 1 Axes>"
      ]
     },
     "metadata": {
      "needs_background": "light"
     },
     "output_type": "display_data"
    }
   ],
   "source": [
    "p2 = sns.histplot(station_daily2['PRCP_BINS'], stat = 'percent')\n",
    "p2.set_title('Precipitation by Category')\n",
    "p2.set(xlabel=None)\n",
    "p2.set_ylabel('Percentage of Days');"
   ]
  },
  {
   "cell_type": "code",
   "execution_count": 78,
   "id": "63e2f7c0-2acf-40a3-b44c-970f7ef1459b",
   "metadata": {},
   "outputs": [
    {
     "data": {
      "text/html": [
       "<div>\n",
       "<style scoped>\n",
       "    .dataframe tbody tr th:only-of-type {\n",
       "        vertical-align: middle;\n",
       "    }\n",
       "\n",
       "    .dataframe tbody tr th {\n",
       "        vertical-align: top;\n",
       "    }\n",
       "\n",
       "    .dataframe thead tr th {\n",
       "        text-align: left;\n",
       "    }\n",
       "\n",
       "    .dataframe thead tr:last-of-type th {\n",
       "        text-align: right;\n",
       "    }\n",
       "</style>\n",
       "<table border=\"1\" class=\"dataframe\">\n",
       "  <thead>\n",
       "    <tr>\n",
       "      <th></th>\n",
       "      <th colspan=\"3\" halign=\"left\">TOTAL_ENTRIES</th>\n",
       "    </tr>\n",
       "    <tr>\n",
       "      <th>PRCP_BINS</th>\n",
       "      <th>high precip</th>\n",
       "      <th>low precip</th>\n",
       "      <th>no precip</th>\n",
       "    </tr>\n",
       "    <tr>\n",
       "      <th>DAY_OF_WEEK</th>\n",
       "      <th></th>\n",
       "      <th></th>\n",
       "      <th></th>\n",
       "    </tr>\n",
       "  </thead>\n",
       "  <tbody>\n",
       "    <tr>\n",
       "      <th>0</th>\n",
       "      <td>22611.333333</td>\n",
       "      <td>22741.0</td>\n",
       "      <td>26941.000000</td>\n",
       "    </tr>\n",
       "    <tr>\n",
       "      <th>1</th>\n",
       "      <td>23351.500000</td>\n",
       "      <td>27206.0</td>\n",
       "      <td>26717.142857</td>\n",
       "    </tr>\n",
       "    <tr>\n",
       "      <th>2</th>\n",
       "      <td>30691.000000</td>\n",
       "      <td>22846.0</td>\n",
       "      <td>26945.250000</td>\n",
       "    </tr>\n",
       "    <tr>\n",
       "      <th>3</th>\n",
       "      <td>25078.000000</td>\n",
       "      <td>23231.5</td>\n",
       "      <td>33376.875000</td>\n",
       "    </tr>\n",
       "    <tr>\n",
       "      <th>4</th>\n",
       "      <td>28260.000000</td>\n",
       "      <td>22705.5</td>\n",
       "      <td>27506.300000</td>\n",
       "    </tr>\n",
       "    <tr>\n",
       "      <th>5</th>\n",
       "      <td>18250.000000</td>\n",
       "      <td>20840.4</td>\n",
       "      <td>19133.714286</td>\n",
       "    </tr>\n",
       "    <tr>\n",
       "      <th>6</th>\n",
       "      <td>16296.000000</td>\n",
       "      <td>24246.0</td>\n",
       "      <td>15790.375000</td>\n",
       "    </tr>\n",
       "  </tbody>\n",
       "</table>\n",
       "</div>"
      ],
      "text/plain": [
       "            TOTAL_ENTRIES                         \n",
       "PRCP_BINS     high precip low precip     no precip\n",
       "DAY_OF_WEEK                                       \n",
       "0            22611.333333    22741.0  26941.000000\n",
       "1            23351.500000    27206.0  26717.142857\n",
       "2            30691.000000    22846.0  26945.250000\n",
       "3            25078.000000    23231.5  33376.875000\n",
       "4            28260.000000    22705.5  27506.300000\n",
       "5            18250.000000    20840.4  19133.714286\n",
       "6            16296.000000    24246.0  15790.375000"
      ]
     },
     "execution_count": 78,
     "metadata": {},
     "output_type": "execute_result"
    }
   ],
   "source": [
    "Penn_totals = station_daily2[(station_daily2['STATION'] == '34 ST-PENN STA')]\n",
    "Penn_subset = Penn_totals.groupby(['PRCP_BINS','DAY_OF_WEEK'])[['TOTAL_ENTRIES']].mean()\n",
    "Penn_unstacked = Penn_subset.unstack(level=0)\n",
    "Penn_unstacked"
   ]
  },
  {
   "cell_type": "code",
   "execution_count": 79,
   "id": "2657723b-5e3b-45c0-be7e-ea8424a24664",
   "metadata": {},
   "outputs": [
    {
     "data": {
      "image/png": "[encoded data removed]",
      "text/plain": [
       "<Figure size 432x288 with 2 Axes>"
      ]
     },
     "metadata": {
      "needs_background": "light"
     },
     "output_type": "display_data"
    }
   ],
   "source": [
    "sns.heatmap(data=Penn_unstacked, cmap='Blues',\n",
    "            xticklabels=['high precip','low precip','no precip'],\n",
    "            yticklabels=['Mond','Tuesday','Wed','Thurs','Fri','Sat','Sun'])\n",
    "plt.title('Penn Station Rainy Day Foot Traffic');"
   ]
  },
  {
   "cell_type": "code",
   "execution_count": 80,
   "id": "0be4f803-1e4c-47fb-8a09-2d0a8e337cd9",
   "metadata": {},
   "outputs": [
    {
     "data": {
      "image/png": "[encoded data removed]",
      "text/plain": [
       "<Figure size 432x288 with 2 Axes>"
      ]
     },
     "metadata": {
      "needs_background": "light"
     },
     "output_type": "display_data"
    }
   ],
   "source": [
    "HSQ_totals = station_daily2[(station_daily2['STATION'] == '34 ST-HERALD SQ')]\n",
    "HSQ_subset = HSQ_totals.groupby(['PRCP_BINS','DAY_OF_WEEK'])[['TOTAL_ENTRIES']].mean()\n",
    "HSQ_unstacked = HSQ_subset.unstack(level=0)\n",
    "sns.heatmap(data=HSQ_unstacked, cmap='Blues',\n",
    "            xticklabels=['high precip','low precip','no precip'],\n",
    "            yticklabels=['Mond','Tuesday','Wed','Thurs','Fri','Sat','Sun'])\n",
    "plt.title('Herald Square Rainy Day Foot Traffic');"
   ]
  },
  {
   "cell_type": "code",
   "execution_count": 81,
   "id": "cf69dbe9-dd06-4837-8b70-cd49ac665c2c",
   "metadata": {},
   "outputs": [
    {
     "data": {
      "image/png": "[encoded data removed]",
      "text/plain": [
       "<Figure size 432x288 with 2 Axes>"
      ]
     },
     "metadata": {
      "needs_background": "light"
     },
     "output_type": "display_data"
    }
   ],
   "source": [
    "sd2_subset = station_daily2.groupby(['PRCP_BINS','DAY_OF_WEEK'])[['TOTAL_ENTRIES']].mean()\n",
    "sd2_unstacked = sd2_subset.unstack(level=0)\n",
    "sns.heatmap(data=sd2_unstacked, cmap='Blues',\n",
    "            xticklabels=['high precip','low precip','no precip'],\n",
    "            yticklabels=['Mond','Tuesday','Wed','Thurs','Fri','Sat','Sun'])\n",
    "plt.title('Citywide Rainy Day Foot Traffic');"
   ]
  },
  {
   "cell_type": "code",
   "execution_count": null,
   "id": "cd80abbc-c009-44be-8403-3e793d3e78e6",
   "metadata": {},
   "outputs": [],
   "source": []
  }
 ],
 "metadata": {
  "kernelspec": {
   "display_name": "Python 3 (ipykernel)",
   "language": "python",
   "name": "python3"
  },
  "language_info": {
   "codemirror_mode": {
    "name": "ipython",
    "version": 3
   },
   "file_extension": ".py",
   "mimetype": "text/x-python",
   "name": "python",
   "nbconvert_exporter": "python",
   "pygments_lexer": "ipython3",
   "version": "3.9.7"
  }
 },
 "nbformat": 4,
 "nbformat_minor": 5
}
